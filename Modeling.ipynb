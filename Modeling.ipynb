{
 "cells": [
  {
   "cell_type": "markdown",
   "metadata": {
    "id": "1uxG3xEDq93U"
   },
   "source": [
    "# Quora Question Pairs using MaLSTM "
   ]
  },
  {
   "cell_type": "code",
   "execution_count": 1,
   "metadata": {
    "id": "dmT24hKA5sq7"
   },
   "outputs": [],
   "source": [
    "import warnings\n",
    "warnings.filterwarnings(\"ignore\")\n",
    "import pickle\n",
    "import pandas as pd\n",
    "import numpy as np\n",
    "\n",
    "# Tools for preprocessing input data\n",
    "from bs4 import BeautifulSoup\n",
    "from nltk import word_tokenize\n",
    "#from nltk.corpus import stopword\n",
    "from nltk.stem import WordNetLemmatizer\n",
    "import re\n",
    "\n",
    "\n",
    "import seaborn as sns\n",
    "# Tools for creating ngrams and vectorizing input data\n",
    "from gensim.models import Word2Vec, Phrases\n",
    "from gensim.models import KeyedVectors\n",
    "import matplotlib.pyplot as plt\n",
    "from nltk.stem import PorterStemmer\n",
    "\n",
    "\n",
    "from keras.preprocessing.text import Tokenizer\n",
    "from keras.preprocessing.sequence import pad_sequences\n",
    "from keras.optimizers import Adam\n",
    "from keras.models import Model\n",
    "from keras import backend as K\n",
    "import tensorflow as tf\n",
    "from keras.engine.topology import Layer\n",
    "from keras.preprocessing.text import Tokenizer\n",
    "from keras.preprocessing.sequence import pad_sequences\n",
    "from tensorflow.keras import Model\n",
    "from tensorflow.keras import Input\n",
    "from tensorflow.keras.layers import Dense, Embedding,Bidirectional,LSTM,Concatenate,GlobalAveragePooling1D,Dropout, Lambda\n",
    "from nltk.sentiment.vader import SentimentIntensityAnalyzer\n",
    "from keras.layers.normalization import BatchNormalization\n",
    "from sklearn.preprocessing import MinMaxScaler\n",
    "from keras.callbacks import EarlyStopping\n",
    "from tensorflow import keras\n"
   ]
  },
  {
   "cell_type": "code",
   "execution_count": 2,
   "metadata": {
    "colab": {
     "base_uri": "https://localhost:8080/"
    },
    "id": "IQmFBMs0Yyev",
    "outputId": "f68029a7-7f7d-46c6-d142-785a12f77184"
   },
   "outputs": [
    {
     "name": "stdout",
     "output_type": "stream",
     "text": [
      "Drive already mounted at /content/drive; to attempt to forcibly remount, call drive.mount(\"/content/drive\", force_remount=True).\n"
     ]
    }
   ],
   "source": [
    "from google.colab import drive\n",
    "drive.mount('/content/drive')"
   ]
  },
  {
   "cell_type": "code",
   "execution_count": 3,
   "metadata": {
    "id": "FxxeMpbfYi_m"
   },
   "outputs": [],
   "source": [
    "train_df = pd.read_csv( \"/content/drive/MyDrive/Kaggle/train.csv\") "
   ]
  },
  {
   "cell_type": "code",
   "execution_count": 4,
   "metadata": {
    "colab": {
     "base_uri": "https://localhost:8080/"
    },
    "id": "h9ORYJP0eNfl",
    "outputId": "574319a2-ad62-49a5-cd6a-cad10cb580f6"
   },
   "outputs": [
    {
     "name": "stdout",
     "output_type": "stream",
     "text": [
      "Indexing word vectors.\n",
      "Found 400000 word vectors.\n"
     ]
    }
   ],
   "source": [
    "print('Indexing word vectors.')\n",
    "\n",
    "embeddings_index = {}\n",
    "f = open('/content/drive/MyDrive/Kaggle/glove.6B.300d.txt', encoding='utf-8')\n",
    "for line in f:\n",
    "    values = line.split()\n",
    "    word = values[0]\n",
    "    coefs = np.asarray(values[1:], dtype='float32')\n",
    "    embeddings_index[word] = coefs\n",
    "f.close()\n",
    "\n",
    "print('Found %s word vectors.' % len(embeddings_index))"
   ]
  },
  {
   "cell_type": "code",
   "execution_count": 5,
   "metadata": {
    "id": "N-09RSCrYfES"
   },
   "outputs": [],
   "source": [
    "# Parameters\n",
    "max_num_words = 200000\n",
    "sequence_length = 60\n",
    "embedding_dim = 300"
   ]
  },
  {
   "cell_type": "code",
   "execution_count": 24,
   "metadata": {
    "id": "4_80fjjnTKgN"
   },
   "outputs": [],
   "source": [
    "# Preprocessing text"
   ]
  },
  {
   "cell_type": "code",
   "execution_count": 7,
   "metadata": {
    "id": "1wBPA1rCYfES"
   },
   "outputs": [],
   "source": [
    "  def text_to_wordlist(text, remove_stopwords=False, stem_words=False):\n",
    "      # Clean the text, with the option to remove stopwords and to stem words.\n",
    "      # Convert words to lower case and split them\n",
    "      text = text.lower().split()\n",
    "\n",
    "      # Optionally, remove stop words\n",
    "      if remove_stopwords:\n",
    "          stop_words = set(stopwords.words(\"english\"))\n",
    "          text = [w for w in text if not w in stop_words]\n",
    "      \n",
    "      text = \" \".join(text)\n",
    "      \n",
    "      # Remove punctuation from text\n",
    "      # text = \"\".join([c for c in text if c not in punctuation])\n",
    "\n",
    "      # Clean the text\n",
    "      text = re.sub(r\"[^A-Za-z0-9^,!.\\/'+-=]\", \" \", text)\n",
    "      text = re.sub(r\"what's\", \"what is \", text)\n",
    "      text = re.sub(r\"\\'s\", \" \", text)\n",
    "      text = re.sub(r\"\\'ve\", \" have \", text)\n",
    "      text = re.sub(r\"can't\", \"cannot \", text)\n",
    "      text = re.sub(r\"n't\", \" not \", text)\n",
    "      text = re.sub(r\"i'm\", \"i am \", text)\n",
    "      text = re.sub(r\"\\'re\", \" are \", text)\n",
    "      text = re.sub(r\"\\'d\", \" would \", text)\n",
    "      text = re.sub(r\"\\'ll\", \" will \", text)\n",
    "      text = re.sub(r\",\", \" \", text)\n",
    "      text = re.sub(r\"\\.\", \" \", text)\n",
    "      text = re.sub(r\"!\", \" ! \", text)\n",
    "      text = re.sub(r\"\\/\", \" \", text)\n",
    "      text = re.sub(r\"\\^\", \" ^ \", text)\n",
    "      text = re.sub(r\"\\+\", \" + \", text)\n",
    "      text = re.sub(r\"\\-\", \" - \", text)\n",
    "      text = re.sub(r\"\\=\", \" = \", text)\n",
    "      text = re.sub(r\"'\", \" \", text)\n",
    "      text = re.sub(r\":\", \" : \", text)\n",
    "      text = re.sub(r\"(\\d+)(k)\", r\"\\g<1>000\", text)\n",
    "      text = re.sub(r\" e g \", \" eg \", text)\n",
    "      text = re.sub(r\" b g \", \" bg \", text)\n",
    "      text = re.sub(r\" u s \", \" american \", text)\n",
    "      # text = re.sub(r\"\\0s\", \"0\", text) # It doesn't make sense to me\n",
    "      text = re.sub(r\" 9 11 \", \"911\", text)\n",
    "      text = re.sub(r\"e - mail\", \"email\", text)\n",
    "      text = re.sub(r\"j k\", \"jk\", text)\n",
    "      text = re.sub(r\"\\s{2,}\", \" \", text)\n",
    "      \n",
    "      \n",
    "      # Return a list of words\n",
    "      return(text)\n",
    "\n",
    "  def preprocess_prepare(q1, q2):\n",
    "\n",
    "      #Apply preprocessing on each question\n",
    "      q1=q1.apply(text_to_wordlist)\n",
    "      q2=q2.apply(text_to_wordlist)\n",
    "\n",
    "      return q1,q2"
   ]
  },
  {
   "cell_type": "code",
   "execution_count": 8,
   "metadata": {
    "id": "j_mCTLyDYfET"
   },
   "outputs": [],
   "source": [
    "train_df = train_df.fillna(\"\")\n",
    "train_df['question1_clean'],train_df['question2_clean'] = preprocess_prepare(train_df['question1'], train_df['question2'])"
   ]
  },
  {
   "cell_type": "code",
   "execution_count": 9,
   "metadata": {
    "id": "OuusLuQ4YfET"
   },
   "outputs": [],
   "source": [
    "# Tokenize words in all sentences\n",
    "tokenizer = Tokenizer(num_words = max_num_words, split=' ', oov_token='<unw>')\n",
    "tokenizer.fit_on_texts(train_df['question1_clean']+train_df['question2_clean'])\n",
    "\n",
    "# this takes questions and replaces each word with an integer\n",
    "q1 = tokenizer.texts_to_sequences(train_df['question1_clean'])\n",
    "q2 = tokenizer.texts_to_sequences(train_df['question2_clean'])\n",
    "\n",
    "# sequence padding to have the same length of sentence (sequence_length)\n",
    "q1 = pad_sequences(q1, int(sequence_length))\n",
    "q2 = pad_sequences(q2, int(sequence_length))"
   ]
  },
  {
   "cell_type": "code",
   "execution_count": 10,
   "metadata": {
    "id": "C0mRmUltYfET"
   },
   "outputs": [],
   "source": [
    "y=train_df['is_duplicate']"
   ]
  },
  {
   "cell_type": "code",
   "execution_count": 11,
   "metadata": {
    "colab": {
     "base_uri": "https://localhost:8080/"
    },
    "id": "EkZbmjGO6_K3",
    "outputId": "e78e6386-5081-40cb-aa61-d52c6893ae85"
   },
   "outputs": [
    {
     "name": "stdout",
     "output_type": "stream",
     "text": [
      "Found 86391 unique tokens.\n"
     ]
    }
   ],
   "source": [
    "word_index = tokenizer.word_index\n",
    "print('Found %s unique tokens.' % len(word_index))"
   ]
  },
  {
   "cell_type": "code",
   "execution_count": 12,
   "metadata": {
    "colab": {
     "base_uri": "https://localhost:8080/"
    },
    "id": "ysPM5I5o6OX2",
    "outputId": "f03033ee-9386-4c7e-b5ea-da61f259a985"
   },
   "outputs": [
    {
     "name": "stdout",
     "output_type": "stream",
     "text": [
      "Null word embeddings: \n"
     ]
    }
   ],
   "source": [
    "embedding_matrix = np.zeros((max_num_words, embedding_dim))\n",
    "for word, i in word_index.items():\n",
    "    embedding_vector = embeddings_index.get(word)\n",
    "    if embedding_vector is not None:\n",
    "        embedding_matrix[i] = embedding_vector\n",
    "print('Null word embeddings: '.format(np.sum(np.sum(embedding_matrix, axis=1) == 0)))"
   ]
  },
  {
   "cell_type": "code",
   "execution_count": 13,
   "metadata": {
    "id": "Cg17pTAtYfEV"
   },
   "outputs": [],
   "source": [
    "# Number words in each question (might be usueful feature) \n",
    "q1_n_words = train_df['question1'].apply(lambda x: len(x.split(' ')))\n",
    "q2_n_words = train_df['question2'].apply(lambda x: len(x.split(' ')))"
   ]
  },
  {
   "cell_type": "code",
   "execution_count": 14,
   "metadata": {
    "id": "duyFo-_JO0rA"
   },
   "outputs": [],
   "source": [
    "# Standarize numerical features \n",
    "scaler = MinMaxScaler()\n",
    "\n",
    "scaler.fit(q1_n_words.values.reshape(1,-1))\n",
    "q1_n_words=scaler.transform(q1_n_words.values.reshape(1,-1))\n",
    "\n",
    "scaler.fit(q2_n_words.values.reshape(1,-1))\n",
    "q2_n_words=scaler.transform(q2_n_words.values.reshape(1,-1))\n",
    "\n"
   ]
  },
  {
   "cell_type": "code",
   "execution_count": 15,
   "metadata": {
    "id": "MMwMJxueTntj"
   },
   "outputs": [],
   "source": [
    "y=train_df['is_duplicate']"
   ]
  },
  {
   "cell_type": "code",
   "execution_count": 16,
   "metadata": {
    "id": "DZzF3A4-ikOj"
   },
   "outputs": [],
   "source": [
    "def exponent_neg_manhattan_distance(left, right):\n",
    "    ''' \n",
    "    Purpose : Helper function for the similarity estimate of the LSTMs outputs\n",
    "    Inputs : Two n-dimensional vectors\n",
    "    Output : Manhattan distance between the input vectors\n",
    "    \n",
    "    '''\n",
    "    return K.exp(-K.sum(K.abs(left-right), axis=1, keepdims=True))"
   ]
  },
  {
   "cell_type": "code",
   "execution_count": 17,
   "metadata": {
    "id": "2LLiivovfX_l"
   },
   "outputs": [],
   "source": [
    "# Input layers\n",
    "q1_input = Input(shape=(sequence_length,))\n",
    "q2_input = Input(shape=(sequence_length,))\n",
    "\n",
    "embedding_layer = Embedding(input_dim = embedding_matrix.shape[0], output_dim = embedding_matrix.shape[1], \n",
    "                             weights=[embedding_matrix],input_length = sequence_length, trainable=False)\n",
    "\n",
    "# Embedded version of the inputs\n",
    "encoded_left = embedding_layer(q1_input)\n",
    "encoded_right = embedding_layer(q2_input)\n",
    "\n",
    "# Since this is a siamese network, both sides share the same LSTM\n",
    "shared_lstm = LSTM(50)\n",
    "\n",
    "q1_output = shared_lstm(encoded_left)\n",
    "q2_output = shared_lstm(encoded_right)\n",
    "\n",
    "# Calculates the distance as defined by the MaLSTM model\n",
    "output = Lambda(function=lambda x: exponent_neg_manhattan_distance(x[0], x[1]),output_shape=lambda x: (x[0][0], 1))([q1_output, q2_output])"
   ]
  },
  {
   "cell_type": "code",
   "execution_count": 18,
   "metadata": {
    "id": "cZw0OMItFpZQ"
   },
   "outputs": [],
   "source": [
    "# Combine all of the above in a Model\n",
    "model = Model([q1_input, q2_input], [output])"
   ]
  },
  {
   "cell_type": "code",
   "execution_count": 19,
   "metadata": {
    "id": "GD64xXuNlUHI"
   },
   "outputs": [],
   "source": [
    "model.compile(loss='mse', optimizer= 'adam', metrics=['accuracy'])"
   ]
  },
  {
   "cell_type": "code",
   "execution_count": 20,
   "metadata": {
    "colab": {
     "base_uri": "https://localhost:8080/"
    },
    "id": "dBDwBygk7JPb",
    "outputId": "4551a2a2-4c64-4115-c25d-0712b482b939"
   },
   "outputs": [
    {
     "name": "stdout",
     "output_type": "stream",
     "text": [
      "Model: \"model\"\n",
      "__________________________________________________________________________________________________\n",
      "Layer (type)                    Output Shape         Param #     Connected to                     \n",
      "==================================================================================================\n",
      "input_1 (InputLayer)            [(None, 60)]         0                                            \n",
      "__________________________________________________________________________________________________\n",
      "input_2 (InputLayer)            [(None, 60)]         0                                            \n",
      "__________________________________________________________________________________________________\n",
      "embedding (Embedding)           (None, 60, 300)      60000000    input_1[0][0]                    \n",
      "                                                                 input_2[0][0]                    \n",
      "__________________________________________________________________________________________________\n",
      "lstm (LSTM)                     (None, 50)           70200       embedding[0][0]                  \n",
      "                                                                 embedding[1][0]                  \n",
      "__________________________________________________________________________________________________\n",
      "lambda (Lambda)                 (None, 1)            0           lstm[0][0]                       \n",
      "                                                                 lstm[1][0]                       \n",
      "==================================================================================================\n",
      "Total params: 60,070,200\n",
      "Trainable params: 70,200\n",
      "Non-trainable params: 60,000,000\n",
      "__________________________________________________________________________________________________\n"
     ]
    }
   ],
   "source": [
    "model.summary()"
   ]
  },
  {
   "cell_type": "code",
   "execution_count": 21,
   "metadata": {
    "colab": {
     "base_uri": "https://localhost:8080/"
    },
    "id": "d0hOY_rnhD0o",
    "outputId": "101c5f7e-8d1e-4373-ab7c-8a84cd508660"
   },
   "outputs": [
    {
     "name": "stdout",
     "output_type": "stream",
     "text": [
      "Epoch 1/50\n",
      "178/178 [==============================] - 23s 106ms/step - loss: 0.2358 - accuracy: 0.6843 - val_loss: 0.1663 - val_accuracy: 0.7542\n",
      "Epoch 2/50\n",
      "178/178 [==============================] - 18s 101ms/step - loss: 0.1658 - accuracy: 0.7559 - val_loss: 0.1555 - val_accuracy: 0.7750\n",
      "Epoch 3/50\n",
      "178/178 [==============================] - 18s 101ms/step - loss: 0.1552 - accuracy: 0.7763 - val_loss: 0.1500 - val_accuracy: 0.7872\n",
      "Epoch 4/50\n",
      "178/178 [==============================] - 18s 101ms/step - loss: 0.1505 - accuracy: 0.7861 - val_loss: 0.1470 - val_accuracy: 0.7950\n",
      "Epoch 5/50\n",
      "178/178 [==============================] - 18s 101ms/step - loss: 0.1463 - accuracy: 0.7946 - val_loss: 0.1439 - val_accuracy: 0.7998\n",
      "Epoch 6/50\n",
      "178/178 [==============================] - 18s 101ms/step - loss: 0.1434 - accuracy: 0.7994 - val_loss: 0.1416 - val_accuracy: 0.8019\n",
      "Epoch 7/50\n",
      "178/178 [==============================] - 18s 100ms/step - loss: 0.1409 - accuracy: 0.8041 - val_loss: 0.1401 - val_accuracy: 0.8022\n",
      "Epoch 8/50\n",
      "178/178 [==============================] - 18s 101ms/step - loss: 0.1392 - accuracy: 0.8067 - val_loss: 0.1387 - val_accuracy: 0.8069\n",
      "Epoch 9/50\n",
      "178/178 [==============================] - 18s 101ms/step - loss: 0.1363 - accuracy: 0.8118 - val_loss: 0.1374 - val_accuracy: 0.8088\n",
      "Epoch 10/50\n",
      "178/178 [==============================] - 18s 102ms/step - loss: 0.1355 - accuracy: 0.8136 - val_loss: 0.1360 - val_accuracy: 0.8102\n",
      "Epoch 11/50\n",
      "178/178 [==============================] - 18s 101ms/step - loss: 0.1338 - accuracy: 0.8159 - val_loss: 0.1352 - val_accuracy: 0.8095\n",
      "Epoch 12/50\n",
      "178/178 [==============================] - 18s 100ms/step - loss: 0.1328 - accuracy: 0.8179 - val_loss: 0.1342 - val_accuracy: 0.8130\n",
      "Epoch 13/50\n",
      "178/178 [==============================] - 18s 101ms/step - loss: 0.1308 - accuracy: 0.8213 - val_loss: 0.1339 - val_accuracy: 0.8145\n",
      "Epoch 14/50\n",
      "178/178 [==============================] - 18s 100ms/step - loss: 0.1294 - accuracy: 0.8237 - val_loss: 0.1325 - val_accuracy: 0.8152\n",
      "Epoch 15/50\n",
      "178/178 [==============================] - 18s 101ms/step - loss: 0.1294 - accuracy: 0.8237 - val_loss: 0.1324 - val_accuracy: 0.8171\n",
      "Epoch 16/50\n",
      "178/178 [==============================] - 18s 100ms/step - loss: 0.1280 - accuracy: 0.8260 - val_loss: 0.1319 - val_accuracy: 0.8170\n",
      "Epoch 17/50\n",
      "178/178 [==============================] - 18s 100ms/step - loss: 0.1272 - accuracy: 0.8269 - val_loss: 0.1306 - val_accuracy: 0.8170\n",
      "Epoch 18/50\n",
      "178/178 [==============================] - 18s 100ms/step - loss: 0.1261 - accuracy: 0.8293 - val_loss: 0.1306 - val_accuracy: 0.8182\n",
      "Epoch 19/50\n",
      "178/178 [==============================] - 18s 101ms/step - loss: 0.1254 - accuracy: 0.8306 - val_loss: 0.1296 - val_accuracy: 0.8194\n",
      "Epoch 20/50\n",
      "178/178 [==============================] - 18s 100ms/step - loss: 0.1244 - accuracy: 0.8315 - val_loss: 0.1291 - val_accuracy: 0.8201\n",
      "Epoch 21/50\n",
      "178/178 [==============================] - 18s 101ms/step - loss: 0.1232 - accuracy: 0.8340 - val_loss: 0.1288 - val_accuracy: 0.8217\n",
      "Epoch 22/50\n",
      "178/178 [==============================] - 18s 100ms/step - loss: 0.1229 - accuracy: 0.8340 - val_loss: 0.1284 - val_accuracy: 0.8230\n",
      "Epoch 23/50\n",
      "178/178 [==============================] - 18s 100ms/step - loss: 0.1221 - accuracy: 0.8357 - val_loss: 0.1281 - val_accuracy: 0.8234\n",
      "Epoch 24/50\n",
      "178/178 [==============================] - 18s 101ms/step - loss: 0.1217 - accuracy: 0.8363 - val_loss: 0.1281 - val_accuracy: 0.8234\n",
      "Epoch 25/50\n",
      "178/178 [==============================] - 18s 101ms/step - loss: 0.1205 - accuracy: 0.8382 - val_loss: 0.1274 - val_accuracy: 0.8233\n",
      "Epoch 26/50\n",
      "178/178 [==============================] - 18s 101ms/step - loss: 0.1203 - accuracy: 0.8389 - val_loss: 0.1273 - val_accuracy: 0.8241\n",
      "Epoch 27/50\n",
      "178/178 [==============================] - 18s 100ms/step - loss: 0.1196 - accuracy: 0.8403 - val_loss: 0.1270 - val_accuracy: 0.8251\n",
      "Epoch 28/50\n",
      "178/178 [==============================] - 18s 101ms/step - loss: 0.1193 - accuracy: 0.8407 - val_loss: 0.1269 - val_accuracy: 0.8252\n",
      "Epoch 29/50\n",
      "178/178 [==============================] - 18s 100ms/step - loss: 0.1187 - accuracy: 0.8418 - val_loss: 0.1263 - val_accuracy: 0.8247\n",
      "Epoch 30/50\n",
      "178/178 [==============================] - 18s 102ms/step - loss: 0.1185 - accuracy: 0.8416 - val_loss: 0.1265 - val_accuracy: 0.8261\n",
      "Epoch 31/50\n",
      "178/178 [==============================] - 18s 100ms/step - loss: 0.1173 - accuracy: 0.8437 - val_loss: 0.1258 - val_accuracy: 0.8255\n",
      "Epoch 32/50\n",
      "178/178 [==============================] - 18s 101ms/step - loss: 0.1172 - accuracy: 0.8436 - val_loss: 0.1254 - val_accuracy: 0.8266\n",
      "Epoch 33/50\n",
      "178/178 [==============================] - 18s 101ms/step - loss: 0.1164 - accuracy: 0.8455 - val_loss: 0.1258 - val_accuracy: 0.8265\n",
      "Epoch 34/50\n",
      "178/178 [==============================] - 18s 101ms/step - loss: 0.1161 - accuracy: 0.8456 - val_loss: 0.1251 - val_accuracy: 0.8271\n",
      "Epoch 35/50\n",
      "178/178 [==============================] - 18s 100ms/step - loss: 0.1157 - accuracy: 0.8461 - val_loss: 0.1250 - val_accuracy: 0.8266\n",
      "Epoch 36/50\n",
      "178/178 [==============================] - 18s 100ms/step - loss: 0.1154 - accuracy: 0.8470 - val_loss: 0.1249 - val_accuracy: 0.8275\n",
      "Epoch 37/50\n",
      "178/178 [==============================] - 18s 101ms/step - loss: 0.1144 - accuracy: 0.8491 - val_loss: 0.1246 - val_accuracy: 0.8271\n",
      "Epoch 38/50\n",
      "178/178 [==============================] - 18s 100ms/step - loss: 0.1140 - accuracy: 0.8499 - val_loss: 0.1247 - val_accuracy: 0.8280\n",
      "Epoch 39/50\n",
      "178/178 [==============================] - 18s 101ms/step - loss: 0.1139 - accuracy: 0.8496 - val_loss: 0.1245 - val_accuracy: 0.8289\n",
      "Epoch 40/50\n",
      "178/178 [==============================] - 18s 101ms/step - loss: 0.1128 - accuracy: 0.8514 - val_loss: 0.1244 - val_accuracy: 0.8293\n",
      "Epoch 41/50\n",
      "178/178 [==============================] - 18s 101ms/step - loss: 0.1127 - accuracy: 0.8520 - val_loss: 0.1250 - val_accuracy: 0.8280\n",
      "Epoch 42/50\n",
      "178/178 [==============================] - 18s 100ms/step - loss: 0.1122 - accuracy: 0.8534 - val_loss: 0.1242 - val_accuracy: 0.8290\n",
      "Epoch 43/50\n",
      "178/178 [==============================] - 18s 100ms/step - loss: 0.1120 - accuracy: 0.8536 - val_loss: 0.1239 - val_accuracy: 0.8292\n",
      "Epoch 44/50\n",
      "178/178 [==============================] - 18s 101ms/step - loss: 0.1119 - accuracy: 0.8529 - val_loss: 0.1241 - val_accuracy: 0.8285\n",
      "Epoch 45/50\n",
      "178/178 [==============================] - 18s 101ms/step - loss: 0.1112 - accuracy: 0.8544 - val_loss: 0.1241 - val_accuracy: 0.8300\n",
      "Epoch 46/50\n",
      "178/178 [==============================] - 18s 100ms/step - loss: 0.1110 - accuracy: 0.8550 - val_loss: 0.1234 - val_accuracy: 0.8301\n",
      "Epoch 47/50\n",
      "178/178 [==============================] - 18s 102ms/step - loss: 0.1101 - accuracy: 0.8566 - val_loss: 0.1235 - val_accuracy: 0.8298\n",
      "Epoch 48/50\n",
      "178/178 [==============================] - 18s 101ms/step - loss: 0.1105 - accuracy: 0.8558 - val_loss: 0.1244 - val_accuracy: 0.8285\n",
      "Epoch 49/50\n",
      "178/178 [==============================] - 18s 100ms/step - loss: 0.1099 - accuracy: 0.8572 - val_loss: 0.1234 - val_accuracy: 0.8307\n",
      "Epoch 50/50\n",
      "178/178 [==============================] - 18s 102ms/step - loss: 0.1100 - accuracy: 0.8570 - val_loss: 0.1234 - val_accuracy: 0.8307\n"
     ]
    }
   ],
   "source": [
    "# Set early stopping (large patience should be useful)\n",
    "early_stopping =EarlyStopping(monitor='val_loss', patience=5)\n",
    "\n",
    "history = model.fit([q1, q2], y, epochs = 50, batch_size = 2048, verbose = 1, validation_split = 0.1, shuffle = True, callbacks=[early_stopping])"
   ]
  },
  {
   "cell_type": "code",
   "execution_count": 22,
   "metadata": {
    "colab": {
     "base_uri": "https://localhost:8080/",
     "height": 590
    },
    "id": "o3-Ee-PL7NkS",
    "outputId": "897fb7a4-df7b-48d2-f753-12d5a9e93e5d"
   },
   "outputs": [
    {
     "name": "stdout",
     "output_type": "stream",
     "text": [
      "dict_keys(['loss', 'accuracy', 'val_loss', 'val_accuracy'])\n"
     ]
    },
    {
     "data": {
      "image/png": "[encoded data removed]",
      "text/plain": [
       "<Figure size 432x288 with 1 Axes>"
      ]
     },
     "metadata": {
      "needs_background": "light",
      "tags": []
     },
     "output_type": "display_data"
    },
    {
     "data": {
      "image/png": "[encoded data removed]",
      "text/plain": [
       "<Figure size 432x288 with 1 Axes>"
      ]
     },
     "metadata": {
      "needs_background": "light",
      "tags": []
     },
     "output_type": "display_data"
    }
   ],
   "source": [
    "# list all data in history\n",
    "print(history.history.keys())\n",
    "\n",
    "# summarize history for accuracy\n",
    "plt.plot(history.history['accuracy'])\n",
    "plt.plot(history.history['val_accuracy'])\n",
    "plt.title('model accuracy')\n",
    "plt.ylabel('accuracy')\n",
    "plt.xlabel('epoch')\n",
    "plt.legend(['train', 'test'], loc='upper left')\n",
    "plt.show()\n",
    "\n",
    "# summarize history for loss\n",
    "plt.plot(history.history['loss'])\n",
    "plt.plot(history.history['val_loss'])\n",
    "plt.title('model loss')\n",
    "plt.ylabel('loss')\n",
    "plt.xlabel('epoch')\n",
    "plt.legend(['train', 'test'], loc='upper left')\n",
    "plt.show()"
   ]
  },
  {
   "cell_type": "code",
   "execution_count": 23,
   "metadata": {
    "id": "UXgFM8jscfzW"
   },
   "outputs": [],
   "source": [
    "# Saving Model\n",
    "model.save(\"model.h5\")"
   ]
  }
 ],
 "metadata": {
  "accelerator": "GPU",
  "colab": {
   "collapsed_sections": [],
   "name": "Modelling.py.ipynb",
   "provenance": [],
   "toc_visible": true
  },
  "kernelspec": {
   "display_name": "Python 3",
   "language": "python",
   "name": "python3"
  },
  "language_info": {
   "codemirror_mode": {
    "name": "ipython",
    "version": 3
   },
   "file_extension": ".py",
   "mimetype": "text/x-python",
   "name": "python",
   "nbconvert_exporter": "python",
   "pygments_lexer": "ipython3",
   "version": "3.7.0"
  }
 },
 "nbformat": 4,
 "nbformat_minor": 1
}
