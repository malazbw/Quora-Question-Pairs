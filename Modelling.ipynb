{
  "nbformat": 4,
  "nbformat_minor": 0,
  "metadata": {
    "accelerator": "GPU",
    "colab": {
      "name": "Copy of Modelling_2.ipynb",
      "provenance": [],
      "collapsed_sections": []
    },
    "kernelspec": {
      "display_name": "Python 3",
      "name": "python3"
    }
  },
  "cells": [
    {
      "cell_type": "code",
      "metadata": {
        "colab": {
          "base_uri": "https://localhost:8080/"
        },
        "id": "O3DEhEeh54xa",
        "outputId": "f678f8e8-dc53-4df3-a0b4-ac6105585a4a"
      },
      "source": [
        "!pip install fuzzywuzzy distance"
      ],
      "execution_count": 1,
      "outputs": [
        {
          "output_type": "stream",
          "text": [
            "Requirement already satisfied: fuzzywuzzy in /usr/local/lib/python3.7/dist-packages (0.18.0)\n",
            "Requirement already satisfied: distance in /usr/local/lib/python3.7/dist-packages (0.1.3)\n"
          ],
          "name": "stdout"
        }
      ]
    },
    {
      "cell_type": "code",
      "metadata": {
        "id": "dmT24hKA5sq7"
      },
      "source": [
        "import warnings\n",
        "warnings.filterwarnings(\"ignore\")\n",
        "import pickle\n",
        "import pandas as pd\n",
        "import numpy as np\n",
        "\n",
        "# Tools for preprocessing input data\n",
        "from bs4 import BeautifulSoup\n",
        "from nltk import word_tokenize\n",
        "#from nltk.corpus import stopword\n",
        "from nltk.stem import WordNetLemmatizer\n",
        "import re\n",
        "\n",
        "\n",
        "import seaborn as sns\n",
        "# Tools for creating ngrams and vectorizing input data\n",
        "from gensim.models import Word2Vec, Phrases\n",
        "from gensim.models import KeyedVectors\n",
        "import matplotlib.pyplot as plt\n",
        "from nltk.stem import PorterStemmer\n",
        "#from bs4 import BeautifulSoup\n",
        "from fuzzywuzzy import fuzz\n",
        "import distance\n",
        "\n",
        "from keras.preprocessing.text import Tokenizer\n",
        "from keras.preprocessing.sequence import pad_sequences\n",
        "from keras.optimizers import Adam\n",
        "from keras.models import Model\n",
        "from keras import backend as K\n",
        "import tensorflow as tf\n",
        "from keras.engine.topology import Layer\n",
        "from keras.preprocessing.text import Tokenizer\n",
        "from keras.preprocessing.sequence import pad_sequences\n",
        "from tensorflow.keras import Model\n",
        "from tensorflow.keras import Input\n",
        "from tensorflow.keras.layers import Dense, Embedding,Bidirectional,LSTM,Attention,Concatenate,GlobalAveragePooling1D,Dropout, Lambda\n",
        "from nltk.sentiment.vader import SentimentIntensityAnalyzer\n",
        "from keras.layers.normalization import BatchNormalization\n",
        "from sklearn.preprocessing import MinMaxScaler\n",
        "from tensorflow import keras\n"
      ],
      "execution_count": 2,
      "outputs": []
    },
    {
      "cell_type": "code",
      "metadata": {
        "colab": {
          "base_uri": "https://localhost:8080/"
        },
        "id": "SzmiQa3o5yL4",
        "outputId": "8ad14ea6-d3a3-4f1e-a658-7b34a37e5d0e"
      },
      "source": [
        "from google.colab import drive\n",
        "drive.mount('/content/drive')"
      ],
      "execution_count": 3,
      "outputs": [
        {
          "output_type": "stream",
          "text": [
            "Drive already mounted at /content/drive; to attempt to forcibly remount, call drive.mount(\"/content/drive\", force_remount=True).\n"
          ],
          "name": "stdout"
        }
      ]
    },
    {
      "cell_type": "code",
      "metadata": {
        "id": "xE-69u-95-Qt"
      },
      "source": [
        "\n",
        "train_df = pd.read_csv( \"/content/drive/MyDrive/Kaggle/train_preprocessed.csv\") \n",
        "embeddings_index = pickle.load( open( \"/content/drive/MyDrive/Kaggle/embeddings_index.p\", \"rb\" ) )"
      ],
      "execution_count": 4,
      "outputs": []
    },
    {
      "cell_type": "code",
      "metadata": {
        "id": "JubSUrDA60d1"
      },
      "source": [
        "max_num_words = 200000\n",
        "sequence_length = 60\n",
        "embedding_dim = 300\n",
        "validation_split_ratio = 0.1"
      ],
      "execution_count": 5,
      "outputs": []
    },
    {
      "cell_type": "code",
      "metadata": {
        "id": "-I1sLCZ_63mK"
      },
      "source": [
        "train_df['question1_clean']=train_df['question1_clean'].astype(str)\n",
        "train_df['question2_clean']=train_df['question2_clean'].astype(str)"
      ],
      "execution_count": 6,
      "outputs": []
    },
    {
      "cell_type": "code",
      "metadata": {
        "id": "Gw-gLFwrr8Ch"
      },
      "source": [
        "train_df = train_df.drop(train_df.loc[(train_df.q1_n_words>20 )| (train_df.q2_n_words>20)].index)"
      ],
      "execution_count": 7,
      "outputs": []
    },
    {
      "cell_type": "code",
      "metadata": {
        "colab": {
          "base_uri": "https://localhost:8080/",
          "height": 297
        },
        "id": "tMDY192crBxe",
        "outputId": "691dcd70-e738-4a4e-b049-bfb65eb13d8b"
      },
      "source": [
        "train_df.describe()"
      ],
      "execution_count": 8,
      "outputs": [
        {
          "output_type": "execute_result",
          "data": {
            "text/html": [
              "<div>\n",
              "<style scoped>\n",
              "    .dataframe tbody tr th:only-of-type {\n",
              "        vertical-align: middle;\n",
              "    }\n",
              "\n",
              "    .dataframe tbody tr th {\n",
              "        vertical-align: top;\n",
              "    }\n",
              "\n",
              "    .dataframe thead th {\n",
              "        text-align: right;\n",
              "    }\n",
              "</style>\n",
              "<table border=\"1\" class=\"dataframe\">\n",
              "  <thead>\n",
              "    <tr style=\"text-align: right;\">\n",
              "      <th></th>\n",
              "      <th>id</th>\n",
              "      <th>qid1</th>\n",
              "      <th>qid2</th>\n",
              "      <th>is_duplicate</th>\n",
              "      <th>q1len</th>\n",
              "      <th>q2len</th>\n",
              "      <th>q1_n_words</th>\n",
              "      <th>q2_n_words</th>\n",
              "      <th>token_sort_ratio</th>\n",
              "      <th>fuzz_ratio</th>\n",
              "      <th>fuzz_partial_ratio</th>\n",
              "      <th>longest_substr_ratio</th>\n",
              "      <th>word_share</th>\n",
              "    </tr>\n",
              "  </thead>\n",
              "  <tbody>\n",
              "    <tr>\n",
              "      <th>count</th>\n",
              "      <td>357497.000000</td>\n",
              "      <td>357497.000000</td>\n",
              "      <td>357497.000000</td>\n",
              "      <td>357497.000000</td>\n",
              "      <td>357497.000000</td>\n",
              "      <td>357497.000000</td>\n",
              "      <td>357497.000000</td>\n",
              "      <td>357497.000000</td>\n",
              "      <td>357497.000000</td>\n",
              "      <td>357497.000000</td>\n",
              "      <td>357497.000000</td>\n",
              "      <td>357497.000000</td>\n",
              "      <td>357497.000000</td>\n",
              "    </tr>\n",
              "    <tr>\n",
              "      <th>mean</th>\n",
              "      <td>202145.121061</td>\n",
              "      <td>214322.597345</td>\n",
              "      <td>216853.860172</td>\n",
              "      <td>0.398854</td>\n",
              "      <td>53.344657</td>\n",
              "      <td>52.560542</td>\n",
              "      <td>9.779293</td>\n",
              "      <td>9.740722</td>\n",
              "      <td>65.897767</td>\n",
              "      <td>64.118672</td>\n",
              "      <td>66.507305</td>\n",
              "      <td>0.391376</td>\n",
              "      <td>0.250178</td>\n",
              "    </tr>\n",
              "    <tr>\n",
              "      <th>std</th>\n",
              "      <td>116687.525368</td>\n",
              "      <td>157392.705709</td>\n",
              "      <td>159314.466917</td>\n",
              "      <td>0.489663</td>\n",
              "      <td>21.081838</td>\n",
              "      <td>20.956088</td>\n",
              "      <td>3.620838</td>\n",
              "      <td>3.647376</td>\n",
              "      <td>16.211599</td>\n",
              "      <td>17.616344</td>\n",
              "      <td>16.476694</td>\n",
              "      <td>0.219632</td>\n",
              "      <td>0.126585</td>\n",
              "    </tr>\n",
              "    <tr>\n",
              "      <th>min</th>\n",
              "      <td>0.000000</td>\n",
              "      <td>1.000000</td>\n",
              "      <td>2.000000</td>\n",
              "      <td>0.000000</td>\n",
              "      <td>1.000000</td>\n",
              "      <td>0.000000</td>\n",
              "      <td>1.000000</td>\n",
              "      <td>1.000000</td>\n",
              "      <td>0.000000</td>\n",
              "      <td>0.000000</td>\n",
              "      <td>0.000000</td>\n",
              "      <td>0.000000</td>\n",
              "      <td>0.000000</td>\n",
              "    </tr>\n",
              "    <tr>\n",
              "      <th>25%</th>\n",
              "      <td>101091.000000</td>\n",
              "      <td>72189.000000</td>\n",
              "      <td>71569.000000</td>\n",
              "      <td>0.000000</td>\n",
              "      <td>38.000000</td>\n",
              "      <td>38.000000</td>\n",
              "      <td>7.000000</td>\n",
              "      <td>7.000000</td>\n",
              "      <td>54.000000</td>\n",
              "      <td>50.000000</td>\n",
              "      <td>53.000000</td>\n",
              "      <td>0.222222</td>\n",
              "      <td>0.157895</td>\n",
              "    </tr>\n",
              "    <tr>\n",
              "      <th>50%</th>\n",
              "      <td>202176.000000</td>\n",
              "      <td>187485.000000</td>\n",
              "      <td>190624.000000</td>\n",
              "      <td>0.000000</td>\n",
              "      <td>49.000000</td>\n",
              "      <td>48.000000</td>\n",
              "      <td>9.000000</td>\n",
              "      <td>9.000000</td>\n",
              "      <td>66.000000</td>\n",
              "      <td>64.000000</td>\n",
              "      <td>67.000000</td>\n",
              "      <td>0.350000</td>\n",
              "      <td>0.250000</td>\n",
              "    </tr>\n",
              "    <tr>\n",
              "      <th>75%</th>\n",
              "      <td>303229.000000</td>\n",
              "      <td>342389.000000</td>\n",
              "      <td>348676.000000</td>\n",
              "      <td>1.000000</td>\n",
              "      <td>65.000000</td>\n",
              "      <td>64.000000</td>\n",
              "      <td>12.000000</td>\n",
              "      <td>12.000000</td>\n",
              "      <td>78.000000</td>\n",
              "      <td>78.000000</td>\n",
              "      <td>79.000000</td>\n",
              "      <td>0.526316</td>\n",
              "      <td>0.352941</td>\n",
              "    </tr>\n",
              "    <tr>\n",
              "      <th>max</th>\n",
              "      <td>404289.000000</td>\n",
              "      <td>537932.000000</td>\n",
              "      <td>537933.000000</td>\n",
              "      <td>1.000000</td>\n",
              "      <td>224.000000</td>\n",
              "      <td>235.000000</td>\n",
              "      <td>20.000000</td>\n",
              "      <td>20.000000</td>\n",
              "      <td>100.000000</td>\n",
              "      <td>100.000000</td>\n",
              "      <td>100.000000</td>\n",
              "      <td>0.992481</td>\n",
              "      <td>0.500000</td>\n",
              "    </tr>\n",
              "  </tbody>\n",
              "</table>\n",
              "</div>"
            ],
            "text/plain": [
              "                  id           qid1  ...  longest_substr_ratio     word_share\n",
              "count  357497.000000  357497.000000  ...         357497.000000  357497.000000\n",
              "mean   202145.121061  214322.597345  ...              0.391376       0.250178\n",
              "std    116687.525368  157392.705709  ...              0.219632       0.126585\n",
              "min         0.000000       1.000000  ...              0.000000       0.000000\n",
              "25%    101091.000000   72189.000000  ...              0.222222       0.157895\n",
              "50%    202176.000000  187485.000000  ...              0.350000       0.250000\n",
              "75%    303229.000000  342389.000000  ...              0.526316       0.352941\n",
              "max    404289.000000  537932.000000  ...              0.992481       0.500000\n",
              "\n",
              "[8 rows x 13 columns]"
            ]
          },
          "metadata": {
            "tags": []
          },
          "execution_count": 8
        }
      ]
    },
    {
      "cell_type": "code",
      "metadata": {
        "id": "WDKAxoGm64gw"
      },
      "source": [
        "q1 = train_df['question1_clean'].values\n",
        "q2 = train_df['question2_clean'].values\n",
        "tokenizer = Tokenizer(num_words = max_num_words, split=' ', oov_token='<unw>')\n",
        "tokenizer.fit_on_texts(q1+q2)\n",
        "\n",
        "# this takes our sentences and replaces each word with an integer\n",
        "X_1 = tokenizer.texts_to_sequences(q1)\n",
        "X_2 = tokenizer.texts_to_sequences(q2)\n",
        "\n",
        "# we then pad the sequences so they're all the same length (sequence_length)\n",
        "X_1 = pad_sequences(X_1, int(sequence_length))\n",
        "X_2 = pad_sequences(X_2, int(sequence_length))\n",
        "\n",
        "y = train_df['is_duplicate']"
      ],
      "execution_count": 9,
      "outputs": []
    },
    {
      "cell_type": "code",
      "metadata": {
        "colab": {
          "base_uri": "https://localhost:8080/"
        },
        "id": "EkZbmjGO6_K3",
        "outputId": "1762a3a2-6889-4e89-a496-17524b533821"
      },
      "source": [
        "word_index = tokenizer.word_index\n",
        "print('Found %s unique tokens.' % len(word_index))"
      ],
      "execution_count": 10,
      "outputs": [
        {
          "output_type": "stream",
          "text": [
            "Found 75120 unique tokens.\n"
          ],
          "name": "stdout"
        }
      ]
    },
    {
      "cell_type": "code",
      "metadata": {
        "colab": {
          "base_uri": "https://localhost:8080/"
        },
        "id": "ysPM5I5o6OX2",
        "outputId": "76f6a1f0-fc6a-4a75-9548-e79968c98c03"
      },
      "source": [
        "embedding_matrix = np.zeros((max_num_words, embedding_dim))\n",
        "for word, i in word_index.items():\n",
        "    embedding_vector = embeddings_index.get(word)\n",
        "    if embedding_vector is not None:\n",
        "        embedding_matrix[i] = embedding_vector\n",
        "print('Null word embeddings: '.format(np.sum(np.sum(embedding_matrix, axis=1) == 0)))\n"
      ],
      "execution_count": 11,
      "outputs": [
        {
          "output_type": "stream",
          "text": [
            "Null word embeddings: \n"
          ],
          "name": "stdout"
        }
      ]
    },
    {
      "cell_type": "code",
      "metadata": {
        "id": "-AbRRkD5PPhG"
      },
      "source": [
        "q1_n_words=train_df['q1_n_words']\n",
        "q2_n_words=train_df['q2_n_words']\n",
        "have_same_q_w=train_df['have_same_q_w']"
      ],
      "execution_count": 12,
      "outputs": []
    },
    {
      "cell_type": "code",
      "metadata": {
        "id": "-OLAn9ZlO5WX"
      },
      "source": [
        "q1_n_words=q1_n_words.values\n",
        "q2_n_words=q2_n_words.values\n",
        "have_same_q_w=have_same_q_w.values"
      ],
      "execution_count": 13,
      "outputs": []
    },
    {
      "cell_type": "code",
      "metadata": {
        "id": "CLAqjo2FMogO"
      },
      "source": [
        "scaler = MinMaxScaler()\n",
        "scaler.fit(q1_n_words.reshape(-1,1))\n",
        "q1_n_words=scaler.transform(q1_n_words.reshape(-1,1))\n",
        "\n",
        "scaler.fit(q2_n_words.reshape(-1,1))\n",
        "q2_n_words=scaler.transform(q2_n_words.reshape(-1,1))\n",
        "\n",
        "scaler.fit(have_same_q_w.reshape(-1,1))\n",
        "have_same_q_w=scaler.transform(have_same_q_w.reshape(-1,1))\n"
      ],
      "execution_count": 14,
      "outputs": []
    },
    {
      "cell_type": "code",
      "metadata": {
        "id": "DZzF3A4-ikOj"
      },
      "source": [
        "def exponent_neg_manhattan_distance(left, right):\n",
        "    ''' \n",
        "    Purpose : Helper function for the similarity estimate of the LSTMs outputs\n",
        "    Inputs : Two n-dimensional vectors\n",
        "    Output : Manhattan distance between the input vectors\n",
        "    \n",
        "    '''\n",
        "    return K.exp(-K.sum(K.abs(left-right), axis=1, keepdims=True))"
      ],
      "execution_count": 15,
      "outputs": []
    },
    {
      "cell_type": "code",
      "metadata": {
        "id": "2LLiivovfX_l"
      },
      "source": [
        "# The visible layer\n",
        "left_input = Input(shape=(sequence_length,))\n",
        "right_input = Input(shape=(sequence_length,))\n",
        "\n",
        "embedding_layer = Embedding(input_dim = embedding_matrix.shape[0], output_dim = embedding_matrix.shape[1], \n",
        "                             weights=[embedding_matrix],input_length = sequence_length, trainable=False)\n",
        "\n",
        "# Embedded version of the inputs\n",
        "encoded_left = embedding_layer(left_input)\n",
        "encoded_right = embedding_layer(right_input)\n",
        "\n",
        "# Since this is a siamese network, both sides share the same LSTM\n",
        "shared_lstm = LSTM(50,dropout=0.2, recurrent_dropout=0.2)\n",
        "\n",
        "left_output = shared_lstm(encoded_left)\n",
        "right_output = shared_lstm(encoded_right)\n",
        "\n",
        "# Calculates the distance as defined by the MaLSTM model\n",
        "output = Lambda(function=lambda x: exponent_neg_manhattan_distance(x[0], x[1]),output_shape=lambda x: (x[0][0], 1))([left_output, right_output])\n",
        "\n",
        "\n",
        "#output = Dense(1, activation=\"sigmoid\")(malstm_distance)\n",
        "\n"
      ],
      "execution_count": 19,
      "outputs": []
    },
    {
      "cell_type": "code",
      "metadata": {
        "id": "cZw0OMItFpZQ"
      },
      "source": [
        "# Combine all of the above in a Model\n",
        "model = Model([left_input, right_input], [output])"
      ],
      "execution_count": 20,
      "outputs": []
    },
    {
      "cell_type": "code",
      "metadata": {
        "id": "GD64xXuNlUHI"
      },
      "source": [
        "model.compile(loss='mse', optimizer= 'nadam', metrics=['accuracy'])"
      ],
      "execution_count": 21,
      "outputs": []
    },
    {
      "cell_type": "code",
      "metadata": {
        "colab": {
          "base_uri": "https://localhost:8080/"
        },
        "id": "dBDwBygk7JPb",
        "outputId": "083081ae-4726-4234-c384-2ea08672faea"
      },
      "source": [
        "model.summary()"
      ],
      "execution_count": 22,
      "outputs": [
        {
          "output_type": "stream",
          "text": [
            "Model: \"model\"\n",
            "__________________________________________________________________________________________________\n",
            "Layer (type)                    Output Shape         Param #     Connected to                     \n",
            "==================================================================================================\n",
            "input_5 (InputLayer)            [(None, 60)]         0                                            \n",
            "__________________________________________________________________________________________________\n",
            "input_6 (InputLayer)            [(None, 60)]         0                                            \n",
            "__________________________________________________________________________________________________\n",
            "embedding_2 (Embedding)         (None, 60, 300)      60000000    input_5[0][0]                    \n",
            "                                                                 input_6[0][0]                    \n",
            "__________________________________________________________________________________________________\n",
            "lstm_2 (LSTM)                   (None, 50)           70200       embedding_2[0][0]                \n",
            "                                                                 embedding_2[1][0]                \n",
            "__________________________________________________________________________________________________\n",
            "lambda_1 (Lambda)               (None, 1)            0           lstm_2[0][0]                     \n",
            "                                                                 lstm_2[1][0]                     \n",
            "==================================================================================================\n",
            "Total params: 60,070,200\n",
            "Trainable params: 70,200\n",
            "Non-trainable params: 60,000,000\n",
            "__________________________________________________________________________________________________\n"
          ],
          "name": "stdout"
        }
      ]
    },
    {
      "cell_type": "code",
      "metadata": {
        "colab": {
          "base_uri": "https://localhost:8080/"
        },
        "id": "d0hOY_rnhD0o",
        "outputId": "bf65f9bb-737c-4733-b2c8-0a672a95d7f9"
      },
      "source": [
        "history = model.fit([X_1, X_2], y, epochs = 30, batch_size = 2048, verbose = 1, validation_split = 0.1, shuffle = True)"
      ],
      "execution_count": null,
      "outputs": [
        {
          "output_type": "stream",
          "text": [
            "Epoch 1/30\n",
            " 39/158 [======>.......................] - ETA: 12:09 - loss: 0.3681 - accuracy: 0.5992"
          ],
          "name": "stdout"
        }
      ]
    },
    {
      "cell_type": "code",
      "metadata": {
        "id": "o3-Ee-PL7NkS"
      },
      "source": [
        "# list all data in history\n",
        "print(history.history.keys())\n",
        "\n",
        "# summarize history for accuracy\n",
        "plt.plot(history.history['accuracy'])\n",
        "plt.plot(history.history['val_accuracy'])\n",
        "plt.title('model accuracy')\n",
        "plt.ylabel('accuracy')\n",
        "plt.xlabel('epoch')\n",
        "plt.legend(['train', 'test'], loc='upper left')\n",
        "plt.show()\n",
        "\n",
        "# summarize history for loss\n",
        "plt.plot(history.history['loss'])\n",
        "plt.plot(history.history['val_loss'])\n",
        "plt.title('model loss')\n",
        "plt.ylabel('loss')\n",
        "plt.xlabel('epoch')\n",
        "plt.legend(['train', 'test'], loc='upper left')\n",
        "plt.show()"
      ],
      "execution_count": null,
      "outputs": []
    },
    {
      "cell_type": "markdown",
      "metadata": {
        "id": "VS5h2y0Q8LP2"
      },
      "source": [
        ""
      ]
    }
  ]
}