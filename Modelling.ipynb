{
  "nbformat": 4,
  "nbformat_minor": 0,
  "metadata": {
    "accelerator": "GPU",
    "colab": {
      "name": "Modelling.ipynb",
      "provenance": [],
      "collapsed_sections": [],
      "authorship_tag": "ABX9TyOJXoIqqgdRHI4LUI8jdPjk"
    },
    "kernelspec": {
      "display_name": "Python 3",
      "name": "python3"
    }
  },
  "cells": [
    {
      "cell_type": "markdown",
      "metadata": {
        "id": "1uxG3xEDq93U"
      },
      "source": [
        "# Quora Question Pairs using MaLSTM "
      ]
    },
    {
      "cell_type": "code",
      "metadata": {
        "colab": {
          "base_uri": "https://localhost:8080/"
        },
        "id": "O3DEhEeh54xa",
        "outputId": "2f06ef4e-79c1-4555-b032-ca0ce941306c"
      },
      "source": [
        "!pip install fuzzywuzzy distance"
      ],
      "execution_count": null,
      "outputs": [
        {
          "output_type": "stream",
          "text": [
            "Requirement already satisfied: fuzzywuzzy in /usr/local/lib/python3.7/dist-packages (0.18.0)\n",
            "Requirement already satisfied: distance in /usr/local/lib/python3.7/dist-packages (0.1.3)\n"
          ],
          "name": "stdout"
        }
      ]
    },
    {
      "cell_type": "code",
      "metadata": {
        "id": "dmT24hKA5sq7"
      },
      "source": [
        "import warnings\n",
        "warnings.filterwarnings(\"ignore\")\n",
        "import pickle\n",
        "import pandas as pd\n",
        "import numpy as np\n",
        "\n",
        "# Tools for preprocessing input data\n",
        "from bs4 import BeautifulSoup\n",
        "from nltk import word_tokenize\n",
        "#from nltk.corpus import stopword\n",
        "from nltk.stem import WordNetLemmatizer\n",
        "import re\n",
        "\n",
        "\n",
        "import seaborn as sns\n",
        "# Tools for creating ngrams and vectorizing input data\n",
        "from gensim.models import Word2Vec, Phrases\n",
        "from gensim.models import KeyedVectors\n",
        "import matplotlib.pyplot as plt\n",
        "from nltk.stem import PorterStemmer\n",
        "#from bs4 import BeautifulSoup\n",
        "from fuzzywuzzy import fuzz\n",
        "import distance\n",
        "\n",
        "from keras.preprocessing.text import Tokenizer\n",
        "from keras.preprocessing.sequence import pad_sequences\n",
        "from keras.optimizers import Adam\n",
        "from keras.models import Model\n",
        "from keras import backend as K\n",
        "import tensorflow as tf\n",
        "from keras.engine.topology import Layer\n",
        "from keras.preprocessing.text import Tokenizer\n",
        "from keras.preprocessing.sequence import pad_sequences\n",
        "from tensorflow.keras import Model\n",
        "from tensorflow.keras import Input\n",
        "from tensorflow.keras.layers import Dense, Embedding,Bidirectional,LSTM,Attention,Concatenate,GlobalAveragePooling1D,Dropout, Lambda\n",
        "from nltk.sentiment.vader import SentimentIntensityAnalyzer\n",
        "from keras.layers.normalization import BatchNormalization\n",
        "from sklearn.preprocessing import MinMaxScaler\n",
        "from tensorflow import keras\n"
      ],
      "execution_count": null,
      "outputs": []
    },
    {
      "cell_type": "code",
      "metadata": {
        "id": "SzmiQa3o5yL4",
        "colab": {
          "base_uri": "https://localhost:8080/"
        },
        "outputId": "869e1231-9980-4e47-b6ca-8aca4d225980"
      },
      "source": [
        "from google.colab import drive\n",
        "drive.mount('/content/drive')"
      ],
      "execution_count": null,
      "outputs": [
        {
          "output_type": "stream",
          "text": [
            "Drive already mounted at /content/drive; to attempt to forcibly remount, call drive.mount(\"/content/drive\", force_remount=True).\n"
          ],
          "name": "stdout"
        }
      ]
    },
    {
      "cell_type": "code",
      "metadata": {
        "id": "xE-69u-95-Qt"
      },
      "source": [
        "\n",
        "train_df = pd.read_csv( \"/content/drive/MyDrive/Kaggle/train_preprocessed.csv\") \n",
        "embeddings_index = pickle.load( open( \"/content/drive/MyDrive/Kaggle/embeddings_index.p\", \"rb\" ) )"
      ],
      "execution_count": null,
      "outputs": []
    },
    {
      "cell_type": "code",
      "metadata": {
        "id": "JubSUrDA60d1"
      },
      "source": [
        "max_num_words = 200000\n",
        "sequence_length = 60\n",
        "embedding_dim = 300"
      ],
      "execution_count": null,
      "outputs": []
    },
    {
      "cell_type": "code",
      "metadata": {
        "id": "-I1sLCZ_63mK"
      },
      "source": [
        "train_df['question1_clean']=train_df['question1_clean'].astype(str)\n",
        "train_df['question2_clean']=train_df['question2_clean'].astype(str)"
      ],
      "execution_count": null,
      "outputs": []
    },
    {
      "cell_type": "code",
      "metadata": {
        "id": "tMDY192crBxe",
        "colab": {
          "base_uri": "https://localhost:8080/",
          "height": 314
        },
        "outputId": "9735d704-58da-4f00-dc04-5b7ddbdecd45"
      },
      "source": [
        "train_df.describe()"
      ],
      "execution_count": null,
      "outputs": [
        {
          "output_type": "execute_result",
          "data": {
            "text/html": [
              "<div>\n",
              "<style scoped>\n",
              "    .dataframe tbody tr th:only-of-type {\n",
              "        vertical-align: middle;\n",
              "    }\n",
              "\n",
              "    .dataframe tbody tr th {\n",
              "        vertical-align: top;\n",
              "    }\n",
              "\n",
              "    .dataframe thead th {\n",
              "        text-align: right;\n",
              "    }\n",
              "</style>\n",
              "<table border=\"1\" class=\"dataframe\">\n",
              "  <thead>\n",
              "    <tr style=\"text-align: right;\">\n",
              "      <th></th>\n",
              "      <th>id</th>\n",
              "      <th>qid1</th>\n",
              "      <th>qid2</th>\n",
              "      <th>is_duplicate</th>\n",
              "      <th>q1len</th>\n",
              "      <th>q2len</th>\n",
              "      <th>q1_n_words</th>\n",
              "      <th>q2_n_words</th>\n",
              "      <th>token_sort_ratio</th>\n",
              "      <th>fuzz_ratio</th>\n",
              "      <th>fuzz_partial_ratio</th>\n",
              "      <th>longest_substr_ratio</th>\n",
              "      <th>word_share</th>\n",
              "    </tr>\n",
              "  </thead>\n",
              "  <tbody>\n",
              "    <tr>\n",
              "      <th>count</th>\n",
              "      <td>404290.000000</td>\n",
              "      <td>404290.000000</td>\n",
              "      <td>404290.000000</td>\n",
              "      <td>404290.000000</td>\n",
              "      <td>404290.000000</td>\n",
              "      <td>404290.000000</td>\n",
              "      <td>404290.000000</td>\n",
              "      <td>404290.000000</td>\n",
              "      <td>404290.000000</td>\n",
              "      <td>404290.000000</td>\n",
              "      <td>404290.000000</td>\n",
              "      <td>404290.000000</td>\n",
              "      <td>404290.000000</td>\n",
              "    </tr>\n",
              "    <tr>\n",
              "      <th>mean</th>\n",
              "      <td>202144.500000</td>\n",
              "      <td>217243.942418</td>\n",
              "      <td>220955.655337</td>\n",
              "      <td>0.369198</td>\n",
              "      <td>59.536709</td>\n",
              "      <td>60.108365</td>\n",
              "      <td>10.944592</td>\n",
              "      <td>11.185120</td>\n",
              "      <td>64.058594</td>\n",
              "      <td>61.951198</td>\n",
              "      <td>64.936976</td>\n",
              "      <td>0.370069</td>\n",
              "      <td>0.238862</td>\n",
              "    </tr>\n",
              "    <tr>\n",
              "      <th>std</th>\n",
              "      <td>116708.614502</td>\n",
              "      <td>157751.700002</td>\n",
              "      <td>159903.182629</td>\n",
              "      <td>0.482588</td>\n",
              "      <td>29.940655</td>\n",
              "      <td>33.863870</td>\n",
              "      <td>5.431949</td>\n",
              "      <td>6.311076</td>\n",
              "      <td>16.885971</td>\n",
              "      <td>18.374723</td>\n",
              "      <td>16.797087</td>\n",
              "      <td>0.224148</td>\n",
              "      <td>0.128373</td>\n",
              "    </tr>\n",
              "    <tr>\n",
              "      <th>min</th>\n",
              "      <td>0.000000</td>\n",
              "      <td>1.000000</td>\n",
              "      <td>2.000000</td>\n",
              "      <td>0.000000</td>\n",
              "      <td>0.000000</td>\n",
              "      <td>0.000000</td>\n",
              "      <td>1.000000</td>\n",
              "      <td>1.000000</td>\n",
              "      <td>0.000000</td>\n",
              "      <td>0.000000</td>\n",
              "      <td>0.000000</td>\n",
              "      <td>0.000000</td>\n",
              "      <td>0.000000</td>\n",
              "    </tr>\n",
              "    <tr>\n",
              "      <th>25%</th>\n",
              "      <td>101072.250000</td>\n",
              "      <td>74437.500000</td>\n",
              "      <td>74727.000000</td>\n",
              "      <td>0.000000</td>\n",
              "      <td>39.000000</td>\n",
              "      <td>39.000000</td>\n",
              "      <td>7.000000</td>\n",
              "      <td>7.000000</td>\n",
              "      <td>52.000000</td>\n",
              "      <td>47.000000</td>\n",
              "      <td>51.000000</td>\n",
              "      <td>0.195122</td>\n",
              "      <td>0.142857</td>\n",
              "    </tr>\n",
              "    <tr>\n",
              "      <th>50%</th>\n",
              "      <td>202144.500000</td>\n",
              "      <td>192182.000000</td>\n",
              "      <td>197052.000000</td>\n",
              "      <td>0.000000</td>\n",
              "      <td>52.000000</td>\n",
              "      <td>51.000000</td>\n",
              "      <td>10.000000</td>\n",
              "      <td>10.000000</td>\n",
              "      <td>63.000000</td>\n",
              "      <td>61.000000</td>\n",
              "      <td>64.000000</td>\n",
              "      <td>0.325000</td>\n",
              "      <td>0.235294</td>\n",
              "    </tr>\n",
              "    <tr>\n",
              "      <th>75%</th>\n",
              "      <td>303216.750000</td>\n",
              "      <td>346573.500000</td>\n",
              "      <td>354692.500000</td>\n",
              "      <td>1.000000</td>\n",
              "      <td>72.000000</td>\n",
              "      <td>72.000000</td>\n",
              "      <td>13.000000</td>\n",
              "      <td>13.000000</td>\n",
              "      <td>77.000000</td>\n",
              "      <td>77.000000</td>\n",
              "      <td>78.000000</td>\n",
              "      <td>0.500000</td>\n",
              "      <td>0.333333</td>\n",
              "    </tr>\n",
              "    <tr>\n",
              "      <th>max</th>\n",
              "      <td>404289.000000</td>\n",
              "      <td>537932.000000</td>\n",
              "      <td>537933.000000</td>\n",
              "      <td>1.000000</td>\n",
              "      <td>623.000000</td>\n",
              "      <td>1169.000000</td>\n",
              "      <td>125.000000</td>\n",
              "      <td>237.000000</td>\n",
              "      <td>100.000000</td>\n",
              "      <td>100.000000</td>\n",
              "      <td>100.000000</td>\n",
              "      <td>0.994186</td>\n",
              "      <td>0.500000</td>\n",
              "    </tr>\n",
              "  </tbody>\n",
              "</table>\n",
              "</div>"
            ],
            "text/plain": [
              "                  id           qid1  ...  longest_substr_ratio     word_share\n",
              "count  404290.000000  404290.000000  ...         404290.000000  404290.000000\n",
              "mean   202144.500000  217243.942418  ...              0.370069       0.238862\n",
              "std    116708.614502  157751.700002  ...              0.224148       0.128373\n",
              "min         0.000000       1.000000  ...              0.000000       0.000000\n",
              "25%    101072.250000   74437.500000  ...              0.195122       0.142857\n",
              "50%    202144.500000  192182.000000  ...              0.325000       0.235294\n",
              "75%    303216.750000  346573.500000  ...              0.500000       0.333333\n",
              "max    404289.000000  537932.000000  ...              0.994186       0.500000\n",
              "\n",
              "[8 rows x 13 columns]"
            ]
          },
          "metadata": {
            "tags": []
          },
          "execution_count": 29
        }
      ]
    },
    {
      "cell_type": "code",
      "metadata": {
        "id": "WDKAxoGm64gw"
      },
      "source": [
        "q1 = train_df['question1_clean'].values\n",
        "q2 = train_df['question2_clean'].values\n",
        "\n",
        "tokenizer = Tokenizer(num_words = max_num_words, split=' ', oov_token='<unw>')\n",
        "tokenizer.fit_on_texts(q1+q2)\n",
        "\n",
        "# this takes our sentences and replaces each word with an integer\n",
        "X_1 = tokenizer.texts_to_sequences(q1)\n",
        "X_2 = tokenizer.texts_to_sequences(q2)\n",
        "\n",
        "# we then pad the sequences so they're all the same length (sequence_length)\n",
        "X_1 = pad_sequences(X_1, int(sequence_length))\n",
        "X_2 = pad_sequences(X_2, int(sequence_length))\n",
        "\n",
        "y = train_df['is_duplicate']"
      ],
      "execution_count": null,
      "outputs": []
    },
    {
      "cell_type": "code",
      "metadata": {
        "id": "EkZbmjGO6_K3",
        "colab": {
          "base_uri": "https://localhost:8080/"
        },
        "outputId": "f377906e-ae7b-4395-854f-893a29f99e3e"
      },
      "source": [
        "word_index = tokenizer.word_index\n",
        "print('Found %s unique tokens.' % len(word_index))"
      ],
      "execution_count": null,
      "outputs": [
        {
          "output_type": "stream",
          "text": [
            "Found 86392 unique tokens.\n"
          ],
          "name": "stdout"
        }
      ]
    },
    {
      "cell_type": "code",
      "metadata": {
        "id": "ysPM5I5o6OX2",
        "colab": {
          "base_uri": "https://localhost:8080/"
        },
        "outputId": "6994b623-746a-43a9-d5e4-1cac4c0bc56c"
      },
      "source": [
        "# Building embedding_matrix usig embeddings_index\n",
        "embedding_matrix = np.zeros((max_num_words, embedding_dim))\n",
        "for word, i in word_index.items():\n",
        "    embedding_vector = embeddings_index.get(word)\n",
        "    if embedding_vector is not None:\n",
        "        embedding_matrix[i] = embedding_vector\n",
        "print('Null word embeddings: '.format(np.sum(np.sum(embedding_matrix, axis=1) == 0)))\n"
      ],
      "execution_count": null,
      "outputs": [
        {
          "output_type": "stream",
          "text": [
            "Null word embeddings: \n"
          ],
          "name": "stdout"
        }
      ]
    },
    {
      "cell_type": "code",
      "metadata": {
        "id": "-AbRRkD5PPhG"
      },
      "source": [
        "q1_n_words=train_df['q1_n_words'].values\n",
        "q2_n_words=train_df['q2_n_words'].values\n",
        "have_same_q_w=train_df['have_same_q_w'].values"
      ],
      "execution_count": null,
      "outputs": []
    },
    {
      "cell_type": "code",
      "metadata": {
        "id": "CLAqjo2FMogO"
      },
      "source": [
        "# Standarize numerical features \n",
        "scaler = MinMaxScaler()\n",
        "scaler.fit(q1_n_words.reshape(-1,1))\n",
        "q1_n_words=scaler.transform(q1_n_words.reshape(-1,1))\n",
        "\n",
        "scaler.fit(q2_n_words.reshape(-1,1))\n",
        "q2_n_words=scaler.transform(q2_n_words.reshape(-1,1))\n",
        "\n",
        "scaler.fit(have_same_q_w.reshape(-1,1))\n",
        "have_same_q_w=scaler.transform(have_same_q_w.reshape(-1,1))\n"
      ],
      "execution_count": null,
      "outputs": []
    },
    {
      "cell_type": "code",
      "metadata": {
        "id": "DZzF3A4-ikOj"
      },
      "source": [
        "def exponent_neg_manhattan_distance(left, right):\n",
        "    ''' \n",
        "    Purpose : Helper function for the similarity estimate of the LSTMs outputs\n",
        "    Inputs : Two n-dimensional vectors\n",
        "    Output : Manhattan distance between the input vectors\n",
        "    \n",
        "    '''\n",
        "    return K.exp(-K.sum(K.abs(left-right), axis=1, keepdims=True))"
      ],
      "execution_count": null,
      "outputs": []
    },
    {
      "cell_type": "code",
      "metadata": {
        "id": "2LLiivovfX_l"
      },
      "source": [
        "# Input layers\n",
        "q1_input = Input(shape=(sequence_length,))\n",
        "q2_input = Input(shape=(sequence_length,))\n",
        "\n",
        "embedding_layer = Embedding(input_dim = embedding_matrix.shape[0], output_dim = embedding_matrix.shape[1], \n",
        "                             weights=[embedding_matrix],input_length = sequence_length, trainable=False)\n",
        "\n",
        "# Embedded version of the inputs\n",
        "encoded_left = embedding_layer(q1_input)\n",
        "encoded_right = embedding_layer(q2_input)\n",
        "\n",
        "# Since this is a siamese network, both sides share the same LSTM\n",
        "shared_lstm = LSTM(50)\n",
        "\n",
        "q1_output = shared_lstm(encoded_left)\n",
        "q2_output = shared_lstm(encoded_right)\n",
        "\n",
        "# Calculates the distance as defined by the MaLSTM model\n",
        "output = Lambda(function=lambda x: exponent_neg_manhattan_distance(x[0], x[1]),output_shape=lambda x: (x[0][0], 1))([q1_output, q2_output])"
      ],
      "execution_count": null,
      "outputs": []
    },
    {
      "cell_type": "code",
      "metadata": {
        "id": "cZw0OMItFpZQ"
      },
      "source": [
        "# Combine all of the above in a Model\n",
        "model = Model([q1_input, q2_input], [output])"
      ],
      "execution_count": null,
      "outputs": []
    },
    {
      "cell_type": "code",
      "metadata": {
        "id": "GD64xXuNlUHI"
      },
      "source": [
        "model.compile(loss='mse', optimizer= 'adam', metrics=['accuracy'])"
      ],
      "execution_count": null,
      "outputs": []
    },
    {
      "cell_type": "code",
      "metadata": {
        "id": "dBDwBygk7JPb",
        "colab": {
          "base_uri": "https://localhost:8080/"
        },
        "outputId": "182d4b65-cdc8-42ca-dabf-704af2950e60"
      },
      "source": [
        "model.summary()"
      ],
      "execution_count": null,
      "outputs": [
        {
          "output_type": "stream",
          "text": [
            "Model: \"model_1\"\n",
            "__________________________________________________________________________________________________\n",
            "Layer (type)                    Output Shape         Param #     Connected to                     \n",
            "==================================================================================================\n",
            "input_3 (InputLayer)            [(None, 60)]         0                                            \n",
            "__________________________________________________________________________________________________\n",
            "input_4 (InputLayer)            [(None, 60)]         0                                            \n",
            "__________________________________________________________________________________________________\n",
            "embedding_1 (Embedding)         (None, 60, 300)      60000000    input_3[0][0]                    \n",
            "                                                                 input_4[0][0]                    \n",
            "__________________________________________________________________________________________________\n",
            "lstm_1 (LSTM)                   (None, 60)           86640       embedding_1[0][0]                \n",
            "                                                                 embedding_1[1][0]                \n",
            "__________________________________________________________________________________________________\n",
            "lambda_1 (Lambda)               (None, 1)            0           lstm_1[0][0]                     \n",
            "                                                                 lstm_1[1][0]                     \n",
            "==================================================================================================\n",
            "Total params: 60,086,640\n",
            "Trainable params: 86,640\n",
            "Non-trainable params: 60,000,000\n",
            "__________________________________________________________________________________________________\n"
          ],
          "name": "stdout"
        }
      ]
    },
    {
      "cell_type": "code",
      "metadata": {
        "id": "d0hOY_rnhD0o",
        "colab": {
          "base_uri": "https://localhost:8080/"
        },
        "outputId": "8ffe12ff-0f46-4681-ff2f-e761e95008b5"
      },
      "source": [
        "history = model.fit([X_1, X_2], y, epochs = 100, batch_size = 2048, verbose = 1, validation_split = 0.1, shuffle = True)"
      ],
      "execution_count": null,
      "outputs": [
        {
          "output_type": "stream",
          "text": [
            "Epoch 1/100\n",
            "178/178 [==============================] - 22s 108ms/step - loss: 0.2403 - accuracy: 0.6826 - val_loss: 0.1666 - val_accuracy: 0.7562\n",
            "Epoch 2/100\n",
            "178/178 [==============================] - 18s 104ms/step - loss: 0.1659 - accuracy: 0.7565 - val_loss: 0.1562 - val_accuracy: 0.7753\n",
            "Epoch 3/100\n",
            "178/178 [==============================] - 18s 104ms/step - loss: 0.1561 - accuracy: 0.7751 - val_loss: 0.1503 - val_accuracy: 0.7854\n",
            "Epoch 4/100\n",
            "178/178 [==============================] - 18s 103ms/step - loss: 0.1500 - accuracy: 0.7875 - val_loss: 0.1465 - val_accuracy: 0.7921\n",
            "Epoch 5/100\n",
            "178/178 [==============================] - 18s 102ms/step - loss: 0.1466 - accuracy: 0.7932 - val_loss: 0.1437 - val_accuracy: 0.7972\n",
            "Epoch 6/100\n",
            "178/178 [==============================] - 18s 103ms/step - loss: 0.1430 - accuracy: 0.7996 - val_loss: 0.1425 - val_accuracy: 0.8025\n",
            "Epoch 7/100\n",
            "178/178 [==============================] - 18s 103ms/step - loss: 0.1406 - accuracy: 0.8047 - val_loss: 0.1399 - val_accuracy: 0.8054\n",
            "Epoch 8/100\n",
            "178/178 [==============================] - 18s 102ms/step - loss: 0.1377 - accuracy: 0.8088 - val_loss: 0.1383 - val_accuracy: 0.8076\n",
            "Epoch 9/100\n",
            "178/178 [==============================] - 18s 103ms/step - loss: 0.1360 - accuracy: 0.8120 - val_loss: 0.1368 - val_accuracy: 0.8070\n",
            "Epoch 10/100\n",
            "178/178 [==============================] - 18s 103ms/step - loss: 0.1348 - accuracy: 0.8142 - val_loss: 0.1350 - val_accuracy: 0.8112\n",
            "Epoch 11/100\n",
            "178/178 [==============================] - 18s 103ms/step - loss: 0.1320 - accuracy: 0.8187 - val_loss: 0.1342 - val_accuracy: 0.8127\n",
            "Epoch 12/100\n",
            "178/178 [==============================] - 18s 103ms/step - loss: 0.1312 - accuracy: 0.8207 - val_loss: 0.1332 - val_accuracy: 0.8148\n",
            "Epoch 13/100\n",
            "178/178 [==============================] - 18s 103ms/step - loss: 0.1300 - accuracy: 0.8224 - val_loss: 0.1322 - val_accuracy: 0.8149\n",
            "Epoch 14/100\n",
            "178/178 [==============================] - 18s 104ms/step - loss: 0.1282 - accuracy: 0.8253 - val_loss: 0.1317 - val_accuracy: 0.8176\n",
            "Epoch 15/100\n",
            "178/178 [==============================] - 18s 102ms/step - loss: 0.1273 - accuracy: 0.8265 - val_loss: 0.1308 - val_accuracy: 0.8198\n",
            "Epoch 16/100\n",
            "178/178 [==============================] - 18s 104ms/step - loss: 0.1259 - accuracy: 0.8290 - val_loss: 0.1301 - val_accuracy: 0.8197\n",
            "Epoch 17/100\n",
            "178/178 [==============================] - 18s 104ms/step - loss: 0.1249 - accuracy: 0.8307 - val_loss: 0.1293 - val_accuracy: 0.8201\n",
            "Epoch 18/100\n",
            "178/178 [==============================] - 18s 103ms/step - loss: 0.1240 - accuracy: 0.8326 - val_loss: 0.1289 - val_accuracy: 0.8208\n",
            "Epoch 19/100\n",
            "178/178 [==============================] - 18s 103ms/step - loss: 0.1229 - accuracy: 0.8335 - val_loss: 0.1290 - val_accuracy: 0.8210\n",
            "Epoch 20/100\n",
            "178/178 [==============================] - 18s 103ms/step - loss: 0.1223 - accuracy: 0.8349 - val_loss: 0.1281 - val_accuracy: 0.8217\n",
            "Epoch 21/100\n",
            "178/178 [==============================] - 18s 103ms/step - loss: 0.1215 - accuracy: 0.8363 - val_loss: 0.1278 - val_accuracy: 0.8237\n",
            "Epoch 22/100\n",
            "178/178 [==============================] - 18s 103ms/step - loss: 0.1205 - accuracy: 0.8384 - val_loss: 0.1274 - val_accuracy: 0.8233\n",
            "Epoch 23/100\n",
            "178/178 [==============================] - 18s 103ms/step - loss: 0.1199 - accuracy: 0.8398 - val_loss: 0.1271 - val_accuracy: 0.8234\n",
            "Epoch 24/100\n",
            "178/178 [==============================] - 18s 103ms/step - loss: 0.1196 - accuracy: 0.8404 - val_loss: 0.1266 - val_accuracy: 0.8244\n",
            "Epoch 25/100\n",
            "178/178 [==============================] - 18s 102ms/step - loss: 0.1186 - accuracy: 0.8414 - val_loss: 0.1261 - val_accuracy: 0.8242\n",
            "Epoch 26/100\n",
            "178/178 [==============================] - 18s 103ms/step - loss: 0.1180 - accuracy: 0.8425 - val_loss: 0.1260 - val_accuracy: 0.8255\n",
            "Epoch 27/100\n",
            "178/178 [==============================] - 18s 103ms/step - loss: 0.1171 - accuracy: 0.8445 - val_loss: 0.1259 - val_accuracy: 0.8254\n",
            "Epoch 28/100\n",
            "178/178 [==============================] - 18s 103ms/step - loss: 0.1162 - accuracy: 0.8458 - val_loss: 0.1253 - val_accuracy: 0.8267\n",
            "Epoch 29/100\n",
            "178/178 [==============================] - 18s 103ms/step - loss: 0.1164 - accuracy: 0.8456 - val_loss: 0.1254 - val_accuracy: 0.8272\n",
            "Epoch 30/100\n",
            "178/178 [==============================] - 18s 102ms/step - loss: 0.1155 - accuracy: 0.8471 - val_loss: 0.1246 - val_accuracy: 0.8270\n",
            "Epoch 31/100\n",
            "178/178 [==============================] - 18s 103ms/step - loss: 0.1153 - accuracy: 0.8482 - val_loss: 0.1244 - val_accuracy: 0.8273\n",
            "Epoch 32/100\n",
            "178/178 [==============================] - 18s 103ms/step - loss: 0.1146 - accuracy: 0.8486 - val_loss: 0.1246 - val_accuracy: 0.8280\n",
            "Epoch 33/100\n",
            "178/178 [==============================] - 18s 103ms/step - loss: 0.1141 - accuracy: 0.8501 - val_loss: 0.1241 - val_accuracy: 0.8275\n",
            "Epoch 34/100\n",
            "178/178 [==============================] - 19s 104ms/step - loss: 0.1140 - accuracy: 0.8495 - val_loss: 0.1238 - val_accuracy: 0.8286\n",
            "Epoch 35/100\n",
            "178/178 [==============================] - 18s 104ms/step - loss: 0.1131 - accuracy: 0.8505 - val_loss: 0.1237 - val_accuracy: 0.8301\n",
            "Epoch 36/100\n",
            "178/178 [==============================] - 18s 104ms/step - loss: 0.1127 - accuracy: 0.8523 - val_loss: 0.1236 - val_accuracy: 0.8305\n",
            "Epoch 37/100\n",
            "178/178 [==============================] - 18s 103ms/step - loss: 0.1120 - accuracy: 0.8534 - val_loss: 0.1236 - val_accuracy: 0.8315\n",
            "Epoch 38/100\n",
            "178/178 [==============================] - 18s 104ms/step - loss: 0.1116 - accuracy: 0.8539 - val_loss: 0.1235 - val_accuracy: 0.8296\n",
            "Epoch 39/100\n",
            "178/178 [==============================] - 18s 103ms/step - loss: 0.1112 - accuracy: 0.8549 - val_loss: 0.1230 - val_accuracy: 0.8308\n",
            "Epoch 40/100\n",
            "178/178 [==============================] - 18s 103ms/step - loss: 0.1108 - accuracy: 0.8556 - val_loss: 0.1227 - val_accuracy: 0.8314\n",
            "Epoch 41/100\n",
            "178/178 [==============================] - 18s 103ms/step - loss: 0.1102 - accuracy: 0.8566 - val_loss: 0.1230 - val_accuracy: 0.8321\n",
            "Epoch 42/100\n",
            "178/178 [==============================] - 18s 103ms/step - loss: 0.1102 - accuracy: 0.8557 - val_loss: 0.1226 - val_accuracy: 0.8314\n",
            "Epoch 43/100\n",
            "178/178 [==============================] - 18s 103ms/step - loss: 0.1092 - accuracy: 0.8576 - val_loss: 0.1225 - val_accuracy: 0.8317\n",
            "Epoch 44/100\n",
            "178/178 [==============================] - 18s 103ms/step - loss: 0.1091 - accuracy: 0.8579 - val_loss: 0.1224 - val_accuracy: 0.8330\n",
            "Epoch 45/100\n",
            "178/178 [==============================] - 18s 103ms/step - loss: 0.1090 - accuracy: 0.8582 - val_loss: 0.1222 - val_accuracy: 0.8325\n",
            "Epoch 46/100\n",
            "178/178 [==============================] - 18s 104ms/step - loss: 0.1087 - accuracy: 0.8585 - val_loss: 0.1223 - val_accuracy: 0.8328\n",
            "Epoch 47/100\n",
            "178/178 [==============================] - 18s 103ms/step - loss: 0.1081 - accuracy: 0.8595 - val_loss: 0.1219 - val_accuracy: 0.8331\n",
            "Epoch 48/100\n",
            "178/178 [==============================] - 18s 103ms/step - loss: 0.1078 - accuracy: 0.8600 - val_loss: 0.1219 - val_accuracy: 0.8324\n",
            "Epoch 49/100\n",
            "178/178 [==============================] - 18s 103ms/step - loss: 0.1073 - accuracy: 0.8615 - val_loss: 0.1218 - val_accuracy: 0.8337\n",
            "Epoch 50/100\n",
            "178/178 [==============================] - 18s 103ms/step - loss: 0.1072 - accuracy: 0.8610 - val_loss: 0.1216 - val_accuracy: 0.8337\n",
            "Epoch 51/100\n",
            "178/178 [==============================] - 18s 103ms/step - loss: 0.1070 - accuracy: 0.8614 - val_loss: 0.1214 - val_accuracy: 0.8340\n",
            "Epoch 52/100\n",
            "178/178 [==============================] - 18s 104ms/step - loss: 0.1067 - accuracy: 0.8617 - val_loss: 0.1213 - val_accuracy: 0.8335\n",
            "Epoch 53/100\n",
            "178/178 [==============================] - 19s 104ms/step - loss: 0.1060 - accuracy: 0.8628 - val_loss: 0.1216 - val_accuracy: 0.8321\n",
            "Epoch 54/100\n",
            "178/178 [==============================] - 18s 103ms/step - loss: 0.1060 - accuracy: 0.8623 - val_loss: 0.1214 - val_accuracy: 0.8342\n",
            "Epoch 55/100\n",
            "178/178 [==============================] - 18s 103ms/step - loss: 0.1054 - accuracy: 0.8640 - val_loss: 0.1211 - val_accuracy: 0.8339\n",
            "Epoch 56/100\n",
            "178/178 [==============================] - 18s 104ms/step - loss: 0.1054 - accuracy: 0.8642 - val_loss: 0.1211 - val_accuracy: 0.8341\n",
            "Epoch 57/100\n",
            "178/178 [==============================] - 18s 102ms/step - loss: 0.1054 - accuracy: 0.8645 - val_loss: 0.1213 - val_accuracy: 0.8335\n",
            "Epoch 58/100\n",
            "178/178 [==============================] - 18s 103ms/step - loss: 0.1052 - accuracy: 0.8650 - val_loss: 0.1212 - val_accuracy: 0.8348\n",
            "Epoch 59/100\n",
            "178/178 [==============================] - 18s 102ms/step - loss: 0.1047 - accuracy: 0.8653 - val_loss: 0.1206 - val_accuracy: 0.8347\n",
            "Epoch 60/100\n",
            "178/178 [==============================] - 18s 102ms/step - loss: 0.1039 - accuracy: 0.8666 - val_loss: 0.1208 - val_accuracy: 0.8345\n",
            "Epoch 61/100\n",
            "178/178 [==============================] - 18s 103ms/step - loss: 0.1042 - accuracy: 0.8667 - val_loss: 0.1208 - val_accuracy: 0.8345\n",
            "Epoch 62/100\n",
            "178/178 [==============================] - 18s 102ms/step - loss: 0.1039 - accuracy: 0.8675 - val_loss: 0.1205 - val_accuracy: 0.8350\n",
            "Epoch 63/100\n",
            "178/178 [==============================] - 18s 103ms/step - loss: 0.1035 - accuracy: 0.8675 - val_loss: 0.1208 - val_accuracy: 0.8345\n",
            "Epoch 64/100\n",
            "178/178 [==============================] - 18s 103ms/step - loss: 0.1033 - accuracy: 0.8680 - val_loss: 0.1203 - val_accuracy: 0.8351\n",
            "Epoch 65/100\n",
            "178/178 [==============================] - 18s 104ms/step - loss: 0.1027 - accuracy: 0.8693 - val_loss: 0.1204 - val_accuracy: 0.8351\n",
            "Epoch 66/100\n",
            "178/178 [==============================] - 18s 103ms/step - loss: 0.1030 - accuracy: 0.8686 - val_loss: 0.1204 - val_accuracy: 0.8348\n",
            "Epoch 67/100\n",
            "178/178 [==============================] - 18s 102ms/step - loss: 0.1026 - accuracy: 0.8687 - val_loss: 0.1201 - val_accuracy: 0.8348\n",
            "Epoch 68/100\n",
            "178/178 [==============================] - 18s 104ms/step - loss: 0.1022 - accuracy: 0.8697 - val_loss: 0.1203 - val_accuracy: 0.8362\n",
            "Epoch 69/100\n",
            "178/178 [==============================] - 18s 103ms/step - loss: 0.1022 - accuracy: 0.8693 - val_loss: 0.1202 - val_accuracy: 0.8360\n",
            "Epoch 70/100\n",
            "178/178 [==============================] - 18s 102ms/step - loss: 0.1016 - accuracy: 0.8705 - val_loss: 0.1203 - val_accuracy: 0.8353\n",
            "Epoch 71/100\n",
            "178/178 [==============================] - 18s 104ms/step - loss: 0.1017 - accuracy: 0.8705 - val_loss: 0.1202 - val_accuracy: 0.8358\n",
            "Epoch 72/100\n",
            "178/178 [==============================] - 19s 104ms/step - loss: 0.1008 - accuracy: 0.8720 - val_loss: 0.1203 - val_accuracy: 0.8360\n",
            "Epoch 73/100\n",
            "178/178 [==============================] - 18s 104ms/step - loss: 0.1010 - accuracy: 0.8717 - val_loss: 0.1201 - val_accuracy: 0.8357\n",
            "Epoch 74/100\n",
            "178/178 [==============================] - 19s 104ms/step - loss: 0.1003 - accuracy: 0.8725 - val_loss: 0.1203 - val_accuracy: 0.8352\n",
            "Epoch 75/100\n",
            "178/178 [==============================] - 18s 104ms/step - loss: 0.1007 - accuracy: 0.8720 - val_loss: 0.1200 - val_accuracy: 0.8363\n",
            "Epoch 76/100\n",
            "178/178 [==============================] - 19s 104ms/step - loss: 0.1004 - accuracy: 0.8729 - val_loss: 0.1199 - val_accuracy: 0.8367\n",
            "Epoch 77/100\n",
            "178/178 [==============================] - 18s 103ms/step - loss: 0.1001 - accuracy: 0.8732 - val_loss: 0.1198 - val_accuracy: 0.8365\n",
            "Epoch 78/100\n",
            "178/178 [==============================] - 18s 104ms/step - loss: 0.1000 - accuracy: 0.8737 - val_loss: 0.1198 - val_accuracy: 0.8366\n",
            "Epoch 79/100\n",
            "178/178 [==============================] - 18s 104ms/step - loss: 0.0999 - accuracy: 0.8737 - val_loss: 0.1195 - val_accuracy: 0.8370\n",
            "Epoch 80/100\n",
            "178/178 [==============================] - 18s 103ms/step - loss: 0.0998 - accuracy: 0.8741 - val_loss: 0.1211 - val_accuracy: 0.8350\n",
            "Epoch 81/100\n",
            "178/178 [==============================] - 19s 104ms/step - loss: 0.0997 - accuracy: 0.8735 - val_loss: 0.1196 - val_accuracy: 0.8369\n",
            "Epoch 82/100\n",
            "178/178 [==============================] - 18s 104ms/step - loss: 0.0996 - accuracy: 0.8746 - val_loss: 0.1197 - val_accuracy: 0.8370\n",
            "Epoch 83/100\n",
            "178/178 [==============================] - 18s 104ms/step - loss: 0.0989 - accuracy: 0.8752 - val_loss: 0.1195 - val_accuracy: 0.8368\n",
            "Epoch 84/100\n",
            "178/178 [==============================] - 18s 103ms/step - loss: 0.0987 - accuracy: 0.8755 - val_loss: 0.1196 - val_accuracy: 0.8367\n",
            "Epoch 85/100\n",
            "178/178 [==============================] - 18s 103ms/step - loss: 0.0988 - accuracy: 0.8757 - val_loss: 0.1197 - val_accuracy: 0.8374\n",
            "Epoch 86/100\n",
            "178/178 [==============================] - 18s 104ms/step - loss: 0.0989 - accuracy: 0.8753 - val_loss: 0.1200 - val_accuracy: 0.8375\n",
            "Epoch 87/100\n",
            "178/178 [==============================] - 18s 103ms/step - loss: 0.0979 - accuracy: 0.8769 - val_loss: 0.1196 - val_accuracy: 0.8379\n",
            "Epoch 88/100\n",
            "178/178 [==============================] - 18s 103ms/step - loss: 0.0981 - accuracy: 0.8769 - val_loss: 0.1194 - val_accuracy: 0.8373\n",
            "Epoch 89/100\n",
            "178/178 [==============================] - 18s 104ms/step - loss: 0.0977 - accuracy: 0.8765 - val_loss: 0.1195 - val_accuracy: 0.8372\n",
            "Epoch 90/100\n",
            "178/178 [==============================] - 18s 104ms/step - loss: 0.0976 - accuracy: 0.8772 - val_loss: 0.1195 - val_accuracy: 0.8367\n",
            "Epoch 91/100\n",
            "178/178 [==============================] - 18s 103ms/step - loss: 0.0973 - accuracy: 0.8777 - val_loss: 0.1198 - val_accuracy: 0.8373\n",
            "Epoch 92/100\n",
            "178/178 [==============================] - 18s 104ms/step - loss: 0.0977 - accuracy: 0.8773 - val_loss: 0.1194 - val_accuracy: 0.8374\n",
            "Epoch 93/100\n",
            "178/178 [==============================] - 18s 103ms/step - loss: 0.0969 - accuracy: 0.8789 - val_loss: 0.1197 - val_accuracy: 0.8363\n",
            "Epoch 94/100\n",
            "178/178 [==============================] - 18s 103ms/step - loss: 0.0968 - accuracy: 0.8788 - val_loss: 0.1192 - val_accuracy: 0.8382\n",
            "Epoch 95/100\n",
            "178/178 [==============================] - 18s 103ms/step - loss: 0.0971 - accuracy: 0.8786 - val_loss: 0.1194 - val_accuracy: 0.8374\n",
            "Epoch 96/100\n",
            "178/178 [==============================] - 19s 104ms/step - loss: 0.0963 - accuracy: 0.8795 - val_loss: 0.1194 - val_accuracy: 0.8373\n",
            "Epoch 97/100\n",
            "178/178 [==============================] - 18s 103ms/step - loss: 0.0965 - accuracy: 0.8795 - val_loss: 0.1192 - val_accuracy: 0.8364\n",
            "Epoch 98/100\n",
            "178/178 [==============================] - 19s 104ms/step - loss: 0.0966 - accuracy: 0.8790 - val_loss: 0.1205 - val_accuracy: 0.8350\n",
            "Epoch 99/100\n",
            "178/178 [==============================] - 18s 104ms/step - loss: 0.0969 - accuracy: 0.8795 - val_loss: 0.1194 - val_accuracy: 0.8369\n",
            "Epoch 100/100\n",
            "178/178 [==============================] - 19s 104ms/step - loss: 0.0960 - accuracy: 0.8806 - val_loss: 0.1195 - val_accuracy: 0.8377\n"
          ],
          "name": "stdout"
        }
      ]
    },
    {
      "cell_type": "code",
      "metadata": {
        "id": "o3-Ee-PL7NkS",
        "colab": {
          "base_uri": "https://localhost:8080/",
          "height": 235
        },
        "outputId": "4be6690b-f596-4479-d7d3-68a0c2a8d551"
      },
      "source": [
        "# # list all data in history\n",
        "# print(history.history.keys())\n",
        "\n",
        "# # summarize history for accuracy\n",
        "# plt.plot(history.history['accuracy'])\n",
        "# plt.plot(history.history['val_accuracy'])\n",
        "# plt.title('model accuracy')\n",
        "# plt.ylabel('accuracy')\n",
        "# plt.xlabel('epoch')\n",
        "# plt.legend(['train', 'test'], loc='upper left')\n",
        "# plt.show()\n",
        "\n",
        "# # summarize history for loss\n",
        "# plt.plot(history.history['loss'])\n",
        "# plt.plot(history.history['val_loss'])\n",
        "# plt.title('model loss')\n",
        "# plt.ylabel('loss')\n",
        "# plt.xlabel('epoch')\n",
        "# plt.legend(['train', 'test'], loc='upper left')\n",
        "# plt.show()"
      ],
      "execution_count": 2,
      "outputs": [
        {
          "output_type": "error",
          "ename": "NameError",
          "evalue": "ignored",
          "traceback": [
            "\u001b[0;31m---------------------------------------------------------------------------\u001b[0m",
            "\u001b[0;31mNameError\u001b[0m                                 Traceback (most recent call last)",
            "\u001b[0;32m<ipython-input-2-0246b53e0b56>\u001b[0m in \u001b[0;36m<module>\u001b[0;34m()\u001b[0m\n\u001b[1;32m      1\u001b[0m \u001b[0;31m# list all data in history\u001b[0m\u001b[0;34m\u001b[0m\u001b[0;34m\u001b[0m\u001b[0;34m\u001b[0m\u001b[0m\n\u001b[0;32m----> 2\u001b[0;31m \u001b[0mprint\u001b[0m\u001b[0;34m(\u001b[0m\u001b[0mhistory\u001b[0m\u001b[0;34m.\u001b[0m\u001b[0mhistory\u001b[0m\u001b[0;34m.\u001b[0m\u001b[0mkeys\u001b[0m\u001b[0;34m(\u001b[0m\u001b[0;34m)\u001b[0m\u001b[0;34m)\u001b[0m\u001b[0;34m\u001b[0m\u001b[0;34m\u001b[0m\u001b[0m\n\u001b[0m\u001b[1;32m      3\u001b[0m \u001b[0;34m\u001b[0m\u001b[0m\n\u001b[1;32m      4\u001b[0m \u001b[0;31m# summarize history for accuracy\u001b[0m\u001b[0;34m\u001b[0m\u001b[0;34m\u001b[0m\u001b[0;34m\u001b[0m\u001b[0m\n\u001b[1;32m      5\u001b[0m \u001b[0mplt\u001b[0m\u001b[0;34m.\u001b[0m\u001b[0mplot\u001b[0m\u001b[0;34m(\u001b[0m\u001b[0mhistory\u001b[0m\u001b[0;34m.\u001b[0m\u001b[0mhistory\u001b[0m\u001b[0;34m[\u001b[0m\u001b[0;34m'accuracy'\u001b[0m\u001b[0;34m]\u001b[0m\u001b[0;34m)\u001b[0m\u001b[0;34m\u001b[0m\u001b[0;34m\u001b[0m\u001b[0m\n",
            "\u001b[0;31mNameError\u001b[0m: name 'history' is not defined"
          ]
        }
      ]
    },
    {
      "cell_type": "markdown",
      "metadata": {
        "id": "VS5h2y0Q8LP2"
      },
      "source": [
        ""
      ]
    }
  ]
}